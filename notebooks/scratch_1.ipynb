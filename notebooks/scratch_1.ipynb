{
 "cells": [
  {
   "cell_type": "markdown",
   "id": "1dfd02ed",
   "metadata": {},
   "source": [
    "## Dictionaries"
   ]
  },
  {
   "cell_type": "code",
   "execution_count": null,
   "id": "423a9afb",
   "metadata": {},
   "outputs": [],
   "source": [
    "my_dict = {}\n",
    "# Add items\n",
    "my_dict['a'] = 1\n",
    "my_dict['b'] = 2\n",
    "my_dict['c'] = 3\n",
    "# Remove item\n",
    "my_dict.pop('c')\n",
    "\n",
    "# Print All\n",
    "print(my_dict)\n",
    "# Get value by key\n",
    "value = my_dict.get('b')\n",
    "print(value)\n",
    "# Get value by key with default\n",
    "value = my_dict.get('c', None)\n",
    "print(value)"
   ]
  },
  {
   "cell_type": "markdown",
   "id": "9694d6ba",
   "metadata": {},
   "source": [
    "## List Manipulation"
   ]
  },
  {
   "cell_type": "code",
   "execution_count": null,
   "id": "48820049",
   "metadata": {},
   "outputs": [],
   "source": [
    "my_list = []\n",
    "# Add items 1 by 1\n",
    "my_list.append(1)\n",
    "my_list.append(2)\n",
    "my_list.append(3)\n",
    "# Add multiple items\n",
    "my_list.extend([4, 5, 6])\n",
    "# Add item at index\n",
    "my_list.insert(0, 0)\n",
    "# Remove item with value\n",
    "my_list.remove(5)\n",
    "# Remove last item\n",
    "my_list.pop()\n",
    "my_list.pop()\n",
    "# Remove item at index\n",
    "my_list.pop(0)\n",
    "\n",
    "# Print the list\n",
    "print(my_list)\n",
    "# Sort the list in descending order\n",
    "my_list.sort(reverse=True)\n",
    "print(my_list)\n",
    "# Print list length\n",
    "print(len(my_list))\n",
    "# Loop items\n",
    "for item in my_list:\n",
    "    print(item)"
   ]
  },
  {
   "cell_type": "markdown",
   "id": "9babe226",
   "metadata": {},
   "source": [
    "## List Access"
   ]
  },
  {
   "cell_type": "code",
   "execution_count": null,
   "id": "77d337a9",
   "metadata": {},
   "outputs": [],
   "source": [
    "from pprint import pprint\n",
    "\n",
    "data = [\n",
    "    {\"name\": \"John\", \"age\": 30, \"status\": \"active\"},\n",
    "    {\"name\": \"Jane\", \"age\": 25, \"status\": \"inactive\"},\n",
    "    {\"name\": \"Doe\", \"age\": 22, \"status\": \"active\"}\n",
    "]\n",
    "\n",
    "# Print all items\n",
    "pprint(data)\n",
    "\n",
    "# Print first user\n",
    "pprint(data[0])\n",
    "\n",
    "# Print last user\n",
    "pprint(data[-1])\n",
    "\n",
    "# Print only active users\n",
    "active_users = [user for user in data if user[\"status\"] == \"active\"]\n",
    "pprint(active_users)\n",
    "\n",
    "def sort_by_name(users: list[dict]) -> list[dict]:\n",
    "    return sorted(users, key=lambda x: x[\"name\"])\n",
    "\n",
    "# Print users sorted by name\n",
    "sorted_users = sort_by_name(data)\n",
    "pprint(sorted_users)"
   ]
  },
  {
   "cell_type": "markdown",
   "id": "9de39183",
   "metadata": {},
   "source": [
    "## Call an API"
   ]
  },
  {
   "cell_type": "code",
   "execution_count": null,
   "id": "0d444af8",
   "metadata": {},
   "outputs": [],
   "source": [
    "import requests\n",
    "\n",
    "response = requests.get(\"http://localhost:5000/health\")\n",
    "if response.status_code == 200:\n",
    "    print(\"Service is healthy\")\n",
    "    print(response.json())\n",
    "else:\n",
    "    print(\"Service is unhealthy\")\n",
    "    print(response.text)"
   ]
  },
  {
   "cell_type": "markdown",
   "id": "9ff46305",
   "metadata": {},
   "source": [
    "## Classes"
   ]
  },
  {
   "cell_type": "code",
   "execution_count": null,
   "id": "51242e0a",
   "metadata": {},
   "outputs": [],
   "source": [
    "class MyClass:\n",
    "    gender = None\n",
    "\n",
    "    def __init__(self, name, age):\n",
    "        self.name = name\n",
    "        self.age = age\n",
    "\n",
    "    def greet(self):\n",
    "        print(f\"Hello, my name is {self.name} and I am {self.age} years old.\")\n",
    "\n",
    "    def get_gender(self):\n",
    "        print(f\"My gender is: {self.gender}\")\n",
    "\n",
    "    def set_gender(self, gender):\n",
    "        self.gender = gender\n",
    "\n",
    "new_class = MyClass(\"John\", 30)\n",
    "new_class.greet()\n",
    "new_class.set_gender(\"Male\")\n",
    "\n",
    "print(new_class.get_gender())"
   ]
  },
  {
   "cell_type": "markdown",
   "id": "ec7d063b",
   "metadata": {},
   "source": [
    "## Functions"
   ]
  },
  {
   "cell_type": "code",
   "execution_count": null,
   "id": "32439104",
   "metadata": {},
   "outputs": [],
   "source": [
    "def add_numbers(a: int, b: int, c: int | None = 10) -> int:\n",
    "    return a + b + c\n",
    "\n",
    "def add_with_args(*args: int) -> int:\n",
    "    return sum(args)\n",
    "\n",
    "def add_with_kwargs(**kwargs: int) -> int:\n",
    "    return sum(kwargs.values())\n",
    "\n",
    "# Call with values\n",
    "result = add_numbers(1, 2)\n",
    "print(result)\n",
    "# Call with keyword args\n",
    "result = add_numbers(b=2, a=1)\n",
    "print(result)\n",
    "# Call with all values\n",
    "result = add_numbers(1, 2, 3)\n",
    "print(result)\n",
    "# Call with all args\n",
    "result = add_with_args(1, 2, 3)\n",
    "print(result)\n",
    "# Call with all keyword args\n",
    "result = add_with_kwargs(a=1, b=2, c=3)\n",
    "print(result)"
   ]
  }
 ],
 "metadata": {
  "kernelspec": {
   "display_name": "base",
   "language": "python",
   "name": "python3"
  },
  "language_info": {
   "codemirror_mode": {
    "name": "ipython",
    "version": 3
   },
   "file_extension": ".py",
   "mimetype": "text/x-python",
   "name": "python",
   "nbconvert_exporter": "python",
   "pygments_lexer": "ipython3",
   "version": "3.12.7"
  }
 },
 "nbformat": 4,
 "nbformat_minor": 5
}
