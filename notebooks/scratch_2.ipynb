{
 "cells": [
  {
   "cell_type": "markdown",
   "id": "1dfd02ed",
   "metadata": {},
   "source": [
    "## Dictionaries"
   ]
  },
  {
   "cell_type": "code",
   "execution_count": null,
   "id": "423a9afb",
   "metadata": {},
   "outputs": [],
   "source": [
    "my_dict = {}\n",
    "# Add items\n",
    "\n",
    "# Remove item\n",
    "\n",
    "# Print All\n",
    "\n",
    "# Get value by key\n",
    "\n",
    "# Get value by key with default\n"
   ]
  },
  {
   "cell_type": "markdown",
   "id": "9694d6ba",
   "metadata": {},
   "source": [
    "## List Manipulation"
   ]
  },
  {
   "cell_type": "code",
   "execution_count": null,
   "id": "48820049",
   "metadata": {},
   "outputs": [],
   "source": [
    "my_list = []\n",
    "# Add items 1 by 1\n",
    "\n",
    "# Add multiple items\n",
    "\n",
    "# Add item at index\n",
    "\n",
    "# Remove item with value\n",
    "\n",
    "# Remove last item\n",
    "\n",
    "# Remove item at index\n",
    "\n",
    "# Print the list\n",
    "\n",
    "# Sort the list in descending order\n",
    "\n",
    "# Print list length\n",
    "\n",
    "# Loop items\n"
   ]
  },
  {
   "cell_type": "markdown",
   "id": "9babe226",
   "metadata": {},
   "source": [
    "## List Access"
   ]
  },
  {
   "cell_type": "code",
   "execution_count": null,
   "id": "77d337a9",
   "metadata": {},
   "outputs": [],
   "source": [
    "from pprint import pprint\n",
    "\n",
    "data = [\n",
    "    {\"name\": \"John\", \"age\": 30, \"status\": \"active\"},\n",
    "    {\"name\": \"Jane\", \"age\": 25, \"status\": \"inactive\"},\n",
    "    {\"name\": \"Doe\", \"age\": 22, \"status\": \"active\"}\n",
    "]\n",
    "\n",
    "# Print all items\n",
    "\n",
    "# Print first user\n",
    "\n",
    "# Print last user\n",
    "\n",
    "# Print only active users\n",
    "\n",
    "def sort_by_name(users: list[dict]) -> list[dict]:\n",
    "    return users\n",
    "\n",
    "# Print users sorted by name\n",
    "sorted_users = sort_by_name(data)\n",
    "pprint(sorted_users)"
   ]
  },
  {
   "cell_type": "markdown",
   "id": "9de39183",
   "metadata": {},
   "source": [
    "## Call an API"
   ]
  },
  {
   "cell_type": "code",
   "execution_count": null,
   "id": "0d444af8",
   "metadata": {},
   "outputs": [],
   "source": [
    "import requests\n"
   ]
  },
  {
   "cell_type": "markdown",
   "id": "9ff46305",
   "metadata": {},
   "source": [
    "## Classes"
   ]
  },
  {
   "cell_type": "code",
   "execution_count": null,
   "id": "51242e0a",
   "metadata": {},
   "outputs": [],
   "source": [
    "class MyClass:\n",
    "\n",
    "\n",
    "# new_class = MyClass(\"John\", 30)\n",
    "# new_class.greet()\n",
    "# new_class.set_gender(\"Male\")\n",
    "\n",
    "# print(new_class.get_gender())"
   ]
  },
  {
   "cell_type": "markdown",
   "id": "ec7d063b",
   "metadata": {},
   "source": [
    "## Functions"
   ]
  },
  {
   "cell_type": "code",
   "execution_count": null,
   "id": "32439104",
   "metadata": {},
   "outputs": [],
   "source": [
    "def add_numbers(a: int, b: int, c: int | None = 10) -> int:\n",
    "\n",
    "\n",
    "def add_with_args(*args: int) -> int:\n",
    "\n",
    "\n",
    "def add_with_kwargs(**kwargs: int) -> int:\n",
    "\n",
    "\n",
    "# Call with values\n",
    "result = add_numbers(1, 2)\n",
    "print(result)\n",
    "# Call with keyword args\n",
    "result = add_numbers(b=2, a=1)\n",
    "print(result)\n",
    "# Call with all values\n",
    "result = add_numbers(1, 2, 3)\n",
    "print(result)\n",
    "# Call with all args\n",
    "result = add_with_args(1, 2, 3)\n",
    "print(result)\n",
    "# Call with all keyword args\n",
    "result = add_with_kwargs(a=1, b=2, c=3)\n",
    "print(result)"
   ]
  }
 ],
 "metadata": {
  "kernelspec": {
   "display_name": "base",
   "language": "python",
   "name": "python3"
  },
  "language_info": {
   "codemirror_mode": {
    "name": "ipython",
    "version": 3
   },
   "file_extension": ".py",
   "mimetype": "text/x-python",
   "name": "python",
   "nbconvert_exporter": "python",
   "pygments_lexer": "ipython3",
   "version": "3.12.7"
  }
 },
 "nbformat": 4,
 "nbformat_minor": 5
}
